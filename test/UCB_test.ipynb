{
 "cells": [
  {
   "cell_type": "code",
   "execution_count": 1,
   "metadata": {},
   "outputs": [],
   "source": [
    "import numpy as np \n",
    "import pandas as pd \n",
    "import itertools\n",
    "import sys\n",
    "import seaborn as sns \n",
    "import matplotlib.pyplot as plt \n",
    "\n",
    "from sklearn.preprocessing import OneHotEncoder\n",
    "from sklearn.gaussian_process import GaussianProcessRegressor\n",
    "\n",
    "# Direct to UCB_opt_tools module \n",
    "sys.path.append('../')\n",
    "# from UCB_opt_tools import UCB_opt\n",
    "# from UCB_opt_tools import UCB_batch_mode\n",
    "\n",
    "from UCB_opt_tools import GetUCB\n",
    "\n",
    "\n",
    "import warnings\n",
    "\n",
    "warnings.filterwarnings('ignore')"
   ]
  },
  {
   "attachments": {},
   "cell_type": "markdown",
   "metadata": {},
   "source": [
    "# Load the data "
   ]
  },
  {
   "cell_type": "code",
   "execution_count": 2,
   "metadata": {},
   "outputs": [
    {
     "data": {
      "text/html": [
       "<div>\n",
       "<style scoped>\n",
       "    .dataframe tbody tr th:only-of-type {\n",
       "        vertical-align: middle;\n",
       "    }\n",
       "\n",
       "    .dataframe tbody tr th {\n",
       "        vertical-align: top;\n",
       "    }\n",
       "\n",
       "    .dataframe thead th {\n",
       "        text-align: right;\n",
       "    }\n",
       "</style>\n",
       "<table border=\"1\" class=\"dataframe\">\n",
       "  <thead>\n",
       "    <tr style=\"text-align: right;\">\n",
       "      <th></th>\n",
       "      <th>name</th>\n",
       "      <th>Block_seq</th>\n",
       "      <th>titer</th>\n",
       "      <th>AA_seq</th>\n",
       "    </tr>\n",
       "  </thead>\n",
       "  <tbody>\n",
       "    <tr>\n",
       "      <th>0</th>\n",
       "      <td>ATR-23</td>\n",
       "      <td>A-ATBBBAAT</td>\n",
       "      <td>3.623375</td>\n",
       "      <td>NYFLTGGTGFIGRFLVEKLLARGGTVYVLVREQSQDKLERLRERWG...</td>\n",
       "    </tr>\n",
       "    <tr>\n",
       "      <th>1</th>\n",
       "      <td>ATR-23</td>\n",
       "      <td>A-ATBBBAAT</td>\n",
       "      <td>4.160071</td>\n",
       "      <td>NYFLTGGTGFIGRFLVEKLLARGGTVYVLVREQSQDKLERLRERWG...</td>\n",
       "    </tr>\n",
       "    <tr>\n",
       "      <th>2</th>\n",
       "      <td>ATR-23</td>\n",
       "      <td>A-ATBBBAAT</td>\n",
       "      <td>3.672095</td>\n",
       "      <td>NYFLTGGTGFIGRFLVEKLLARGGTVYVLVREQSQDKLERLRERWG...</td>\n",
       "    </tr>\n",
       "    <tr>\n",
       "      <th>3</th>\n",
       "      <td>Empty Vector</td>\n",
       "      <td>-</td>\n",
       "      <td>1.268835</td>\n",
       "      <td>-</td>\n",
       "    </tr>\n",
       "    <tr>\n",
       "      <th>4</th>\n",
       "      <td>Empty Vector</td>\n",
       "      <td>-</td>\n",
       "      <td>1.109339</td>\n",
       "      <td>-</td>\n",
       "    </tr>\n",
       "  </tbody>\n",
       "</table>\n",
       "</div>"
      ],
      "text/plain": [
       "           name   Block_seq     titer  \\\n",
       "0        ATR-23  A-ATBBBAAT  3.623375   \n",
       "1        ATR-23  A-ATBBBAAT  4.160071   \n",
       "2        ATR-23  A-ATBBBAAT  3.672095   \n",
       "3  Empty Vector           -  1.268835   \n",
       "4  Empty Vector           -  1.109339   \n",
       "\n",
       "                                              AA_seq  \n",
       "0  NYFLTGGTGFIGRFLVEKLLARGGTVYVLVREQSQDKLERLRERWG...  \n",
       "1  NYFLTGGTGFIGRFLVEKLLARGGTVYVLVREQSQDKLERLRERWG...  \n",
       "2  NYFLTGGTGFIGRFLVEKLLARGGTVYVLVREQSQDKLERLRERWG...  \n",
       "3                                                  -  \n",
       "4                                                  -  "
      ]
     },
     "execution_count": 2,
     "metadata": {},
     "output_type": "execute_result"
    }
   ],
   "source": [
    "df = pd.read_excel('../Demos/ATR_engineering/data/RL08_Relabeled.xlsx', index_col=0)\n",
    "\n",
    "# Get rid of unnecessary columns\n",
    "df = df[['Final_Label', 'Block_seq', 'Sum C6-C16', 'AA_seq']]\n",
    "\n",
    "# Fill NaNs in 'Block_seq' and AA-seq\n",
    "df['Block_seq'].fillna('-', inplace=True)\n",
    "df['AA_seq'].fillna('-', inplace=True)\n",
    "\n",
    "\n",
    "# Rename titer column \n",
    "df = df.rename(columns={'Sum C6-C16':'titer', 'Final_Label':'name'})\n",
    "\n",
    "df.head()"
   ]
  },
  {
   "attachments": {},
   "cell_type": "markdown",
   "metadata": {},
   "source": [
    "## Cleaning and preprocessing"
   ]
  },
  {
   "cell_type": "code",
   "execution_count": 3,
   "metadata": {},
   "outputs": [
    {
     "data": {
      "text/html": [
       "<div>\n",
       "<style scoped>\n",
       "    .dataframe tbody tr th:only-of-type {\n",
       "        vertical-align: middle;\n",
       "    }\n",
       "\n",
       "    .dataframe tbody tr th {\n",
       "        vertical-align: top;\n",
       "    }\n",
       "\n",
       "    .dataframe thead th {\n",
       "        text-align: right;\n",
       "    }\n",
       "</style>\n",
       "<table border=\"1\" class=\"dataframe\">\n",
       "  <thead>\n",
       "    <tr style=\"text-align: right;\">\n",
       "      <th></th>\n",
       "      <th>name</th>\n",
       "      <th>Block_seq</th>\n",
       "      <th>AA_seq</th>\n",
       "      <th>titer</th>\n",
       "    </tr>\n",
       "  </thead>\n",
       "  <tbody>\n",
       "    <tr>\n",
       "      <th>0</th>\n",
       "      <td>ATR-01</td>\n",
       "      <td>A-ATAATTBB</td>\n",
       "      <td>NYFLTGGTGFIGRFLVEKLLARGGTVYVLVREQSQDKLERLRERWG...</td>\n",
       "      <td>1.528668</td>\n",
       "    </tr>\n",
       "    <tr>\n",
       "      <th>1</th>\n",
       "      <td>ATR-02</td>\n",
       "      <td>A-TATTTTAB</td>\n",
       "      <td>NYFLTGGTGFIGRFLVEKLLARGGTVYVLVREQSQDKLERLRERWG...</td>\n",
       "      <td>0.809306</td>\n",
       "    </tr>\n",
       "    <tr>\n",
       "      <th>2</th>\n",
       "      <td>ATR-03</td>\n",
       "      <td>A-TTTTBTBA</td>\n",
       "      <td>NYFLTGGTGFIGRFLVEKLLARGGTVYVLVREQSQDKLERLRERWG...</td>\n",
       "      <td>0.932477</td>\n",
       "    </tr>\n",
       "    <tr>\n",
       "      <th>3</th>\n",
       "      <td>ATR-04</td>\n",
       "      <td>A-ATTBAATB</td>\n",
       "      <td>NYFLTGGTGFIGRFLVEKLLARGGTVYVLVREQSQDKLERLRERWG...</td>\n",
       "      <td>0.595051</td>\n",
       "    </tr>\n",
       "    <tr>\n",
       "      <th>4</th>\n",
       "      <td>ATR-05</td>\n",
       "      <td>A-ABTATTTA</td>\n",
       "      <td>NYFLTGGTGFIGRFLVEKLLARGGTVYVLVREQSQDKLERLRERWG...</td>\n",
       "      <td>0.917234</td>\n",
       "    </tr>\n",
       "    <tr>\n",
       "      <th>...</th>\n",
       "      <td>...</td>\n",
       "      <td>...</td>\n",
       "      <td>...</td>\n",
       "      <td>...</td>\n",
       "    </tr>\n",
       "    <tr>\n",
       "      <th>99</th>\n",
       "      <td>MA-ACR (Parent A)</td>\n",
       "      <td>A-AAAAAAAA</td>\n",
       "      <td>NYFLTGGTGFIGRFLVEKLLARGGTVYVLVREQSQDKLERLRERWG...</td>\n",
       "      <td>11.079517</td>\n",
       "    </tr>\n",
       "    <tr>\n",
       "      <th>100</th>\n",
       "      <td>MB-ACR</td>\n",
       "      <td>B-BBBBBBBB</td>\n",
       "      <td>NYFVTGGTGFIGRFLIAKLLARGAIVHVLVREQSVQKLADLREKLG...</td>\n",
       "      <td>26.477074</td>\n",
       "    </tr>\n",
       "    <tr>\n",
       "      <th>101</th>\n",
       "      <td>MT-ACR</td>\n",
       "      <td>T-tTTTTTT</td>\n",
       "      <td>QYFVTGATGFIGKRLVRKLLDRRGSTVHFLLRPESERKLPELLAYW...</td>\n",
       "      <td>4.012505</td>\n",
       "    </tr>\n",
       "    <tr>\n",
       "      <th>102</th>\n",
       "      <td>Parent B (Fusion A-B)</td>\n",
       "      <td>A-BBBBBBBB</td>\n",
       "      <td>NYFLTGGTGFIGRFLVEKLLARGGTVYVLVREQSQDKLERLRERWG...</td>\n",
       "      <td>36.675911</td>\n",
       "    </tr>\n",
       "    <tr>\n",
       "      <th>103</th>\n",
       "      <td>Parent T (Fusion A-T)</td>\n",
       "      <td>A-TTTTTTTT</td>\n",
       "      <td>NYFLTGGTGFIGRFLVEKLLARGGTVYVLVREQSQDKLERLRERWG...</td>\n",
       "      <td>6.295848</td>\n",
       "    </tr>\n",
       "  </tbody>\n",
       "</table>\n",
       "<p>104 rows × 4 columns</p>\n",
       "</div>"
      ],
      "text/plain": [
       "                      name   Block_seq  \\\n",
       "0                   ATR-01  A-ATAATTBB   \n",
       "1                   ATR-02  A-TATTTTAB   \n",
       "2                   ATR-03  A-TTTTBTBA   \n",
       "3                   ATR-04  A-ATTBAATB   \n",
       "4                   ATR-05  A-ABTATTTA   \n",
       "..                     ...         ...   \n",
       "99       MA-ACR (Parent A)  A-AAAAAAAA   \n",
       "100                 MB-ACR  B-BBBBBBBB   \n",
       "101                 MT-ACR   T-tTTTTTT   \n",
       "102  Parent B (Fusion A-B)  A-BBBBBBBB   \n",
       "103  Parent T (Fusion A-T)  A-TTTTTTTT   \n",
       "\n",
       "                                                AA_seq      titer  \n",
       "0    NYFLTGGTGFIGRFLVEKLLARGGTVYVLVREQSQDKLERLRERWG...   1.528668  \n",
       "1    NYFLTGGTGFIGRFLVEKLLARGGTVYVLVREQSQDKLERLRERWG...   0.809306  \n",
       "2    NYFLTGGTGFIGRFLVEKLLARGGTVYVLVREQSQDKLERLRERWG...   0.932477  \n",
       "3    NYFLTGGTGFIGRFLVEKLLARGGTVYVLVREQSQDKLERLRERWG...   0.595051  \n",
       "4    NYFLTGGTGFIGRFLVEKLLARGGTVYVLVREQSQDKLERLRERWG...   0.917234  \n",
       "..                                                 ...        ...  \n",
       "99   NYFLTGGTGFIGRFLVEKLLARGGTVYVLVREQSQDKLERLRERWG...  11.079517  \n",
       "100  NYFVTGGTGFIGRFLIAKLLARGAIVHVLVREQSVQKLADLREKLG...  26.477074  \n",
       "101  QYFVTGATGFIGKRLVRKLLDRRGSTVHFLLRPESERKLPELLAYW...   4.012505  \n",
       "102  NYFLTGGTGFIGRFLVEKLLARGGTVYVLVREQSQDKLERLRERWG...  36.675911  \n",
       "103  NYFLTGGTGFIGRFLVEKLLARGGTVYVLVREQSQDKLERLRERWG...   6.295848  \n",
       "\n",
       "[104 rows x 4 columns]"
      ]
     },
     "execution_count": 3,
     "metadata": {},
     "output_type": "execute_result"
    }
   ],
   "source": [
    "# Average the data\n",
    "df_avg = df.groupby(by=['name','Block_seq', 'AA_seq']).mean().reset_index()\n",
    "df_avg"
   ]
  },
  {
   "cell_type": "code",
   "execution_count": 4,
   "metadata": {},
   "outputs": [
    {
     "data": {
      "text/html": [
       "<div>\n",
       "<style scoped>\n",
       "    .dataframe tbody tr th:only-of-type {\n",
       "        vertical-align: middle;\n",
       "    }\n",
       "\n",
       "    .dataframe tbody tr th {\n",
       "        vertical-align: top;\n",
       "    }\n",
       "\n",
       "    .dataframe thead th {\n",
       "        text-align: right;\n",
       "    }\n",
       "</style>\n",
       "<table border=\"1\" class=\"dataframe\">\n",
       "  <thead>\n",
       "    <tr style=\"text-align: right;\">\n",
       "      <th></th>\n",
       "      <th>name</th>\n",
       "      <th>Block_seq</th>\n",
       "      <th>titer</th>\n",
       "      <th>log_titer</th>\n",
       "      <th>seq</th>\n",
       "    </tr>\n",
       "  </thead>\n",
       "  <tbody>\n",
       "    <tr>\n",
       "      <th>0</th>\n",
       "      <td>ATR-01</td>\n",
       "      <td>A-ATAATTBB</td>\n",
       "      <td>1.528668</td>\n",
       "      <td>0.424397</td>\n",
       "      <td>AATAATTBB</td>\n",
       "    </tr>\n",
       "    <tr>\n",
       "      <th>1</th>\n",
       "      <td>ATR-02</td>\n",
       "      <td>A-TATTTTAB</td>\n",
       "      <td>0.809306</td>\n",
       "      <td>-0.211578</td>\n",
       "      <td>ATATTTTAB</td>\n",
       "    </tr>\n",
       "    <tr>\n",
       "      <th>2</th>\n",
       "      <td>ATR-03</td>\n",
       "      <td>A-TTTTBTBA</td>\n",
       "      <td>0.932477</td>\n",
       "      <td>-0.069911</td>\n",
       "      <td>ATTTTBTBA</td>\n",
       "    </tr>\n",
       "    <tr>\n",
       "      <th>3</th>\n",
       "      <td>ATR-04</td>\n",
       "      <td>A-ATTBAATB</td>\n",
       "      <td>0.595051</td>\n",
       "      <td>-0.519107</td>\n",
       "      <td>AATTBAATB</td>\n",
       "    </tr>\n",
       "    <tr>\n",
       "      <th>4</th>\n",
       "      <td>ATR-05</td>\n",
       "      <td>A-ABTATTTA</td>\n",
       "      <td>0.917234</td>\n",
       "      <td>-0.086393</td>\n",
       "      <td>AABTATTTA</td>\n",
       "    </tr>\n",
       "    <tr>\n",
       "      <th>...</th>\n",
       "      <td>...</td>\n",
       "      <td>...</td>\n",
       "      <td>...</td>\n",
       "      <td>...</td>\n",
       "      <td>...</td>\n",
       "    </tr>\n",
       "    <tr>\n",
       "      <th>91</th>\n",
       "      <td>ATR-92</td>\n",
       "      <td>A-ABBBAAAB</td>\n",
       "      <td>35.281228</td>\n",
       "      <td>3.563351</td>\n",
       "      <td>AABBBAAAB</td>\n",
       "    </tr>\n",
       "    <tr>\n",
       "      <th>92</th>\n",
       "      <td>ATR-93</td>\n",
       "      <td>A-BTBBATAB</td>\n",
       "      <td>34.566492</td>\n",
       "      <td>3.542885</td>\n",
       "      <td>ABTBBATAB</td>\n",
       "    </tr>\n",
       "    <tr>\n",
       "      <th>93</th>\n",
       "      <td>MA-ACR (Parent A)</td>\n",
       "      <td>A-AAAAAAAA</td>\n",
       "      <td>11.079517</td>\n",
       "      <td>2.405098</td>\n",
       "      <td>AAAAAAAAA</td>\n",
       "    </tr>\n",
       "    <tr>\n",
       "      <th>94</th>\n",
       "      <td>Parent B (Fusion A-B)</td>\n",
       "      <td>A-BBBBBBBB</td>\n",
       "      <td>36.675911</td>\n",
       "      <td>3.602120</td>\n",
       "      <td>ABBBBBBBB</td>\n",
       "    </tr>\n",
       "    <tr>\n",
       "      <th>95</th>\n",
       "      <td>Parent T (Fusion A-T)</td>\n",
       "      <td>A-TTTTTTTT</td>\n",
       "      <td>6.295848</td>\n",
       "      <td>1.839890</td>\n",
       "      <td>ATTTTTTTT</td>\n",
       "    </tr>\n",
       "  </tbody>\n",
       "</table>\n",
       "<p>96 rows × 5 columns</p>\n",
       "</div>"
      ],
      "text/plain": [
       "                     name   Block_seq      titer  log_titer        seq\n",
       "0                  ATR-01  A-ATAATTBB   1.528668   0.424397  AATAATTBB\n",
       "1                  ATR-02  A-TATTTTAB   0.809306  -0.211578  ATATTTTAB\n",
       "2                  ATR-03  A-TTTTBTBA   0.932477  -0.069911  ATTTTBTBA\n",
       "3                  ATR-04  A-ATTBAATB   0.595051  -0.519107  AATTBAATB\n",
       "4                  ATR-05  A-ABTATTTA   0.917234  -0.086393  AABTATTTA\n",
       "..                    ...         ...        ...        ...        ...\n",
       "91                 ATR-92  A-ABBBAAAB  35.281228   3.563351  AABBBAAAB\n",
       "92                 ATR-93  A-BTBBATAB  34.566492   3.542885  ABTBBATAB\n",
       "93      MA-ACR (Parent A)  A-AAAAAAAA  11.079517   2.405098  AAAAAAAAA\n",
       "94  Parent B (Fusion A-B)  A-BBBBBBBB  36.675911   3.602120  ABBBBBBBB\n",
       "95  Parent T (Fusion A-T)  A-TTTTTTTT   6.295848   1.839890  ATTTTTTTT\n",
       "\n",
       "[96 rows x 5 columns]"
      ]
     },
     "execution_count": 4,
     "metadata": {},
     "output_type": "execute_result"
    }
   ],
   "source": [
    "# Clean up the data frame\n",
    "\n",
    "df_ucb = df_avg[['name', 'Block_seq', 'titer']]\n",
    "\n",
    "# Take the log of the titer\n",
    "df_ucb['log_titer'] = np.log(df_ucb['titer'])\n",
    "\n",
    "# Drop out instances that are problematic ()\n",
    "df_ucb = df_ucb[(~df_ucb['name'].str.contains(r'M[TB]-ACR')) & (~df_ucb['name'].str.contains(r'^Fusion'))].reset_index(drop=True) \n",
    "\n",
    "# Reformat the sequence column to make it easier to encode \n",
    "df_ucb['seq'] = df_ucb['Block_seq'].str.extract(r'(.)-') + df_ucb['Block_seq'].str.extract(r'-(.+)')\n",
    "df_ucb.drop('Block_seq', axis=1)\n",
    "df_ucb = df_ucb.dropna().reset_index(drop=True)\n",
    "df_ucb"
   ]
  },
  {
   "attachments": {},
   "cell_type": "markdown",
   "metadata": {},
   "source": [
    "## Encode the data"
   ]
  },
  {
   "cell_type": "code",
   "execution_count": 5,
   "metadata": {},
   "outputs": [],
   "source": [
    "df_encode = df_ucb['seq'].str.split(r'',expand=True).drop([0,10],axis=1)\n",
    "df_encode\n",
    "\n",
    "ohc = OneHotEncoder()\n",
    "\n",
    "df_ohc = pd.DataFrame(ohc.fit_transform(df_encode).toarray())"
   ]
  },
  {
   "attachments": {},
   "cell_type": "markdown",
   "metadata": {},
   "source": [
    "## Test out class"
   ]
  },
  {
   "cell_type": "code",
   "execution_count": 6,
   "metadata": {},
   "outputs": [],
   "source": [
    "# Specify a set of 3 proteins to use as a starting point (in this case, the three parental enzymes)\n",
    "df_start = df_ucb[df_ucb['name'].str.contains('Parent')]\n",
    "df_start_locs = list(df_start.index)\n",
    "\n",
    "# Get the initial one-hot encodings\n",
    "X_start = df_ohc.loc[df_start_locs]\n",
    "\n",
    "# Get the initial experimental measurements\n",
    "y_start = df_start['log_titer']\n",
    "\n",
    "# Set up the initial prediction space \n",
    "X_pred_start = df_ohc.drop(df_start_locs)"
   ]
  },
  {
   "cell_type": "code",
   "execution_count": 7,
   "metadata": {},
   "outputs": [
    {
     "data": {
      "text/plain": [
       "array([1.03745343, 1.09949942, 1.10137563, 1.03745343, 1.0529476 ,\n",
       "       1.04837038, 1.0594936 , 1.0529476 , 1.03745343, 1.0529476 ,\n",
       "       1.0529476 , 1.05732451, 1.03745343, 1.05992387, 1.04837038,\n",
       "       1.04255349, 1.04255349, 1.03745343, 1.05732451, 1.04837038,\n",
       "       1.0594936 , 1.04496163, 1.04496163, 1.03745343, 1.04255349,\n",
       "       1.04496163, 1.09949942, 1.12624742, 1.10137563, 1.13198055,\n",
       "       1.10137563, 1.0529476 , 1.03745343, 1.04837038, 1.06976391,\n",
       "       1.04496163, 1.04255349, 1.03745343, 1.12900953, 1.48196794,\n",
       "       1.32100616, 1.32558633, 1.24925778, 1.32558633, 1.32558633,\n",
       "       1.32558633, 1.48196794, 1.32558633, 1.32100616, 1.48196794,\n",
       "       1.48196794, 1.32558633, 1.48196794, 1.32100616, 1.48346008,\n",
       "       1.32100616, 1.48196794, 1.32100616, 1.48467189, 1.32100616,\n",
       "       1.32558633, 1.48467189, 1.48467189, 1.32558633, 1.32558633,\n",
       "       1.48346008, 1.48467189, 1.18477173, 1.18565763, 1.19481503,\n",
       "       1.19481503, 1.19481503, 1.18565763, 1.18565763, 1.18565763,\n",
       "       1.18565763, 1.19481503, 1.04496163, 1.08362731, 1.08362731,\n",
       "       1.04496163, 1.06976391, 1.06976391, 1.11024765, 1.06976391,\n",
       "       1.08362731, 1.12900953, 1.07628798, 1.14326699, 1.06976391,\n",
       "       1.06976391, 1.11024765, 1.07628798])"
      ]
     },
     "execution_count": 7,
     "metadata": {},
     "output_type": "execute_result"
    }
   ],
   "source": [
    "UCB = GetUCB()\n",
    "UCB.fit(X_start, y_start).transform(X_pred_start)\n",
    "\n"
   ]
  },
  {
   "cell_type": "code",
   "execution_count": 8,
   "metadata": {},
   "outputs": [
    {
     "data": {
      "text/plain": [
       "array([1., 0., 1., 0., 0., 1., 0., 0., 1., 0., 0., 1., 0., 0., 1., 0., 1.,\n",
       "       0., 0., 1., 0., 0., 0., 1., 0.])"
      ]
     },
     "execution_count": 8,
     "metadata": {},
     "output_type": "execute_result"
    }
   ],
   "source": [
    "UCB.x_pred_opt"
   ]
  },
  {
   "cell_type": "code",
   "execution_count": 9,
   "metadata": {},
   "outputs": [
    {
     "data": {
      "text/plain": [
       "0.49387506377477075"
      ]
     },
     "execution_count": 9,
     "metadata": {},
     "output_type": "execute_result"
    }
   ],
   "source": [
    "UCB.y_pred_opt"
   ]
  },
  {
   "cell_type": "code",
   "execution_count": 10,
   "metadata": {},
   "outputs": [
    {
     "data": {
      "text/plain": [
       "58"
      ]
     },
     "execution_count": 10,
     "metadata": {},
     "output_type": "execute_result"
    }
   ],
   "source": [
    "UCB.opt_ind"
   ]
  },
  {
   "cell_type": "code",
   "execution_count": 11,
   "metadata": {},
   "outputs": [
    {
     "data": {
      "text/plain": [
       "GetUCB()"
      ]
     },
     "execution_count": 11,
     "metadata": {},
     "output_type": "execute_result"
    }
   ],
   "source": [
    "UCB2 = GetUCB()\n",
    "UCB2.fit(X_start, y_start)\n",
    "UCB2.batch_mode(X_pred_start, batch_size=5)\n",
    "\n",
    "# .fit(X_start, y_start).transform(X_pred_start)"
   ]
  },
  {
   "cell_type": "code",
   "execution_count": 12,
   "metadata": {},
   "outputs": [
    {
     "data": {
      "text/plain": [
       "[array([1., 0., 1., 0., 0., 1., 0., 0., 1., 0., 0., 1., 0., 0., 1., 0., 1.,\n",
       "        0., 0., 1., 0., 0., 0., 1., 0.]),\n",
       " array([1., 0., 1., 0., 0., 0., 1., 0., 1., 0., 0., 1., 0., 0., 1., 0., 0.,\n",
       "        0., 1., 0., 1., 0., 0., 1., 0.]),\n",
       " array([1., 1., 0., 0., 0., 1., 0., 0., 1., 0., 0., 1., 0., 0., 1., 0., 1.,\n",
       "        0., 0., 0., 1., 0., 0., 1., 0.]),\n",
       " array([1., 0., 1., 0., 0., 1., 0., 0., 1., 0., 1., 0., 0., 0., 1., 0., 0.,\n",
       "        0., 1., 0., 1., 0., 0., 1., 0.]),\n",
       " array([1., 0., 1., 0., 1., 0., 0., 0., 1., 0., 0., 1., 0., 0., 1., 0., 1.,\n",
       "        0., 0., 0., 1., 0., 0., 1., 0.])]"
      ]
     },
     "execution_count": 12,
     "metadata": {},
     "output_type": "execute_result"
    }
   ],
   "source": [
    "UCB2.X_batch"
   ]
  },
  {
   "cell_type": "code",
   "execution_count": null,
   "metadata": {},
   "outputs": [],
   "source": []
  }
 ],
 "metadata": {
  "kernelspec": {
   "display_name": "base",
   "language": "python",
   "name": "python3"
  },
  "language_info": {
   "codemirror_mode": {
    "name": "ipython",
    "version": 3
   },
   "file_extension": ".py",
   "mimetype": "text/x-python",
   "name": "python",
   "nbconvert_exporter": "python",
   "pygments_lexer": "ipython3",
   "version": "3.8.8"
  },
  "orig_nbformat": 4
 },
 "nbformat": 4,
 "nbformat_minor": 2
}
